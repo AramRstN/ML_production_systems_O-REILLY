{
 "cells": [
  {
   "cell_type": "markdown",
   "metadata": {},
   "source": [
    "# 📘 Chapter 2: Collecting, Labeling, and Validating Data\n",
    "\n",
    "## Why Data Matters\n",
    "\n",
    "> “Data is the hardest part of ML and the most important piece to get right.”  \n",
    "> — ML Practitioner at Uber\n",
    "\n",
    "> “No other activity in the ML lifecycle has a higher ROI than improving the data.”  \n",
    "> — ML Practitioner at Gojek\n",
    "\n",
    "In production, data is **critical** and often **messier** than in academic settings. This chapter explores the importance of collecting the right data, labeling it effectively, and validating it before using it in ML systems.\n"
   ]
  },
  {
   "cell_type": "markdown",
   "metadata": {},
   "source": [
    "## Important Considerations in Data Collection\n",
    "\n",
    "- Data must **represent the feature space** of the application you're building.\n",
    "- Data issues can arise from:\n",
    "  - Mismatched measurement systems\n",
    "  - Inconsistent encodings (e.g. float vs. int)\n",
    "  - Missing or misinterpreted values (e.g. `0` elevation)\n",
    "\n",
    "You also need to ensure:\n",
    "- Early detection of issues (monitoring)\n",
    "- High **predictive signal** from features (via feature engineering and selection)\n"
   ]
  },
  {
   "cell_type": "markdown",
   "metadata": {},
   "source": [
    "## Responsible Data Collection\n",
    "\n",
    "Ethical and secure data collection involves:\n",
    "- **Data security**: protecting user data from unauthorized access\n",
    "- **Data privacy**: controlling how personal data is stored, shared, and deleted\n",
    "- **Fairness**: avoiding harm like:\n",
    "  - Representational harm (e.g. reinforcing stereotypes)\n",
    "  - Opportunity denial\n",
    "  - Disproportionate product failure\n",
    "  - Harm by disadvantage\n"
   ]
  },
  {
   "cell_type": "markdown",
   "metadata": {},
   "source": [
    "## Labeling Data\n",
    "\n",
    "### Types of Labeling\n",
    "\n",
    "1. **Direct Labeling**  \n",
    "   - Automated from system logs (e.g. click-through rate)  \n",
    "   - Tools: Logstash, Fluentd\n",
    "\n",
    "2. **Human Labeling**  \n",
    "   - Generalists or subject matter experts  \n",
    "   - Often needed for complex or medical data  \n",
    "   - Challenges: bias, inconsistency, cost, speed\n",
    "\n",
    "### Labeling Best Practices\n",
    "- Ensure diversity in rater pool\n",
    "- Monitor label freshness and quality\n",
    "- Consider incentive structures\n"
   ]
  },
  {
   "cell_type": "markdown",
   "metadata": {},
   "source": []
  },
  {
   "cell_type": "markdown",
   "metadata": {},
   "source": [
    "## Data Changes and Drift\n",
    "\n",
    "### Gradual Changes\n",
    "- Happen over months/years\n",
    "- Due to trends, seasonality, changing business processes\n",
    "\n",
    "### Sudden Changes\n",
    "- Sensor failures, logging errors, system updates\n",
    "- May lead to **data drift** or **concept drift**:\n",
    "  - **Data drift**: input distribution changes\n",
    "  - **Concept drift**: relationship between input and output changes\n",
    "\n",
    "### Retraining Strategy Based on Drift Speed:\n",
    "\n",
    "| Drift Speed     | Strategy                                  |\n",
    "|------------------|--------------------------------------------|\n",
    "| Months/Years   | Curated datasets, standard retraining       |\n",
    "| Weeks          | Feedback-based retraining                   |\n",
    "| Hours/Minutes  | Continuous monitoring, fast feedback loops  |\n"
   ]
  },
  {
   "cell_type": "markdown",
   "metadata": {},
   "source": [
    "## Validating Data\n",
    "\n",
    "### Common Data Issues\n",
    "- **Data drift**: feature distributions change\n",
    "- **Concept drift**: label meanings change\n",
    "- **Schema skew**: training vs serving schema mismatch\n",
    "- **Feature skew**: mismatched feature values\n",
    "- **Distribution skew**: value distribution mismatch\n"
   ]
  },
  {
   "cell_type": "markdown",
   "metadata": {},
   "source": [
    "## Using TensorFlow Data Validation (TFDV)\n",
    "\n",
    "### Capabilities of TFDV\n",
    "- Generate statistics (counts, missing values, etc.)\n",
    "- Visualize and compare datasets\n",
    "- Infer schema\n",
    "- Detect:\n",
    "  - Anomalies\n",
    "  - Drift\n",
    "  - Training-serving skew\n"
   ]
  },
  {
   "cell_type": "code",
   "execution_count": null,
   "metadata": {
    "vscode": {
     "languageId": "plaintext"
    }
   },
   "outputs": [],
   "source": [
    "# Install TFDV\n",
    "!pip install tensorflow-data-validation\n"
   ]
  },
  {
   "cell_type": "code",
   "execution_count": null,
   "metadata": {
    "vscode": {
     "languageId": "plaintext"
    }
   },
   "outputs": [],
   "source": [
    "# Generate statistics from a CSV file\n",
    "import tensorflow_data_validation as tfdv\n",
    "\n",
    "stats = tfdv.generate_statistics_from_csv(\n",
    "    data_location='your_data.csv',\n",
    "    delimiter=','\n",
    ")\n"
   ]
  },
  {
   "cell_type": "code",
   "execution_count": null,
   "metadata": {
    "vscode": {
     "languageId": "plaintext"
    }
   },
   "outputs": [],
   "source": [
    "# Generate statistics from TFRecord format\n",
    "stats = tfdv.generate_statistics_from_tfrecord(\n",
    "    data_location='your_data.tfrecord'\n",
    ")\n",
    "\n",
    "# Visualize statistics\n",
    "tfdv.visualize_statistics(stats)\n",
    "\n"
   ]
  },
  {
   "cell_type": "code",
   "execution_count": null,
   "metadata": {
    "vscode": {
     "languageId": "plaintext"
    }
   },
   "outputs": [],
   "source": [
    "# Print histogram of string features (e.g. for label distribution)\n",
    "print(stats.datasets[0].features[0].string_stats.rank_histogram)\n",
    "\n",
    "# Example output:\n",
    "# buckets {\n",
    "#   label: \"ham\"\n",
    "#   sample_count: 4827.0\n",
    "# }\n",
    "# buckets {\n",
    "#   label: \"spam\"\n",
    "#   sample_count: 747.0\n",
    "# }\n"
   ]
  },
  {
   "cell_type": "markdown",
   "metadata": {},
   "source": [
    "## Types of Skew Detected by TFDV\n",
    "\n",
    "1. Schema skew       → Mismatch in data types or formats\n",
    "2. Feature skew      → Same feature has different values\n",
    "3. Distribution skew → Feature distributions differ\n"
   ]
  },
  {
   "cell_type": "markdown",
   "metadata": {},
   "source": [
    "## Alternatives to TensorFlow Data Validation\n",
    "\n",
    "While TFDV is powerful, other tools exist that may better suit your tech stack:\n",
    "\n",
    "- **Great Expectations**  \n",
    "  Originally open-source, now also a commercial cloud solution.  \n",
    "  Connects easily with many data sources, including in-memory databases.\n",
    "\n",
    "- **Evidently**  \n",
    "  Focuses on dataset monitoring and drift detection.  \n",
    "  Supports unstructured text data.\n",
    "\n",
    "These tools offer different trade-offs for teams not using TensorFlow-based workflows.\n"
   ]
  },
  {
   "cell_type": "markdown",
   "metadata": {},
   "source": [
    "## Conclusion\n",
    "\n",
    "In this chapter, we discussed the many things to consider when collecting and labeling the data used to train ML models.\n",
    "\n",
    "Given:\n",
    "- The importance of data to system health\n",
    "- The complexity of labeling\n",
    "- The potential for data drift and sudden change\n",
    "\n",
    "...it's crucial to build systems that **manage**, **monitor**, and **validate** your data throughout the lifecycle of your machine learning pipeline.\n"
   ]
  },
  {
   "cell_type": "markdown",
   "metadata": {},
   "source": []
  }
 ],
 "metadata": {
  "language_info": {
   "name": "python"
  },
  "orig_nbformat": 4
 },
 "nbformat": 4,
 "nbformat_minor": 2
}
